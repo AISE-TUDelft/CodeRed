{
 "cells": [
  {
   "cell_type": "code",
   "execution_count": 2,
   "metadata": {},
   "outputs": [
    {
     "name": "stderr",
     "output_type": "stream",
     "text": [
      "/root/miniconda3/envs/autosklearn/lib/python3.10/site-packages/tqdm/auto.py:22: TqdmWarning: IProgress not found. Please update jupyter and ipywidgets. See https://ipywidgets.readthedocs.io/en/stable/user_install.html\n",
      "  from .autonotebook import tqdm as notebook_tqdm\n"
     ]
    }
   ],
   "source": [
    "import os\n",
    "import pandas as pd\n",
    "from langchain_openai import ChatOpenAI\n",
    "from langchain_core.prompts import ChatPromptTemplate\n",
    "from tqdm.auto import tqdm\n",
    "from typing import Optional\n",
    "\n",
    "with open(\"./openrouter.key\", \"r\") as f:\n",
    "    os.environ[\"OPENROUTER_API_KEY\"] = f.read().strip()\n"
   ]
  },
  {
   "cell_type": "code",
   "execution_count": 3,
   "metadata": {},
   "outputs": [],
   "source": [
    "ROUNDS = 1\n",
    "models = list(pd.read_feather(\"./datasets/models.feather\")[\"id\"])"
   ]
  },
  {
   "cell_type": "code",
   "execution_count": 4,
   "metadata": {},
   "outputs": [],
   "source": [
    "class ChatOpenRouter(ChatOpenAI):\n",
    "    openai_api_base: str\n",
    "    openai_api_key: str\n",
    "    model_name: str\n",
    "\n",
    "    def __init__(self,\n",
    "                 model: str,\n",
    "                 openai_api_key: Optional[str] = None,\n",
    "                 openai_api_base: str = \"https://openrouter.ai/api/v1\",\n",
    "                 **kwargs):\n",
    "        openai_api_key = openai_api_key or os.getenv('OPENROUTER_API_KEY')\n",
    "        super().__init__(openai_api_base=openai_api_base,\n",
    "                         openai_api_key=openai_api_key,\n",
    "                         model_name=model, **kwargs)\n",
    "\n",
    "gen_prompt = ChatPromptTemplate.from_messages(\n",
    "    [\n",
    "        (\"human\", \"{prompt}\"),\n",
    "    ]\n",
    ")"
   ]
  },
  {
   "cell_type": "code",
   "execution_count": 5,
   "metadata": {},
   "outputs": [],
   "source": [
    "dataset = \"revised_dataset\"\n",
    "df = pd.read_feather(f\"./datasets/{dataset}.feather\")"
   ]
  },
  {
   "cell_type": "code",
   "execution_count": 33,
   "metadata": {},
   "outputs": [],
   "source": [
    "def generate_predictions(count, total, model, model_name):\n",
    "    gen_llm = ChatOpenRouter(\n",
    "        temperature=0.7,\n",
    "        model = model,\n",
    "        cache=False\n",
    "    )\n",
    "    generator = gen_prompt | gen_llm\n",
    "\n",
    "    for round in range(ROUNDS):\n",
    "        # check if already in folder\n",
    "        if os.path.exists(f\"./results/{dataset}_{model_name}_{round}.pkl\"):\n",
    "            count += len(df)\n",
    "            print(f\"Skipping {dataset}_{model_name}_{round}.pkl\")\n",
    "            continue\n",
    "        print(f\"{dataset}_{model_name}_{round}\")\n",
    "        gens = [None] * len(df)\n",
    "        try:\n",
    "            for index, output in tqdm(generator.batch_as_completed(list(df[\"Prompt\"]), return_exceptions=True), total=len(df)):\n",
    "                if isinstance(output, ValueError): # special case for ValueError in GPT models \n",
    "                    message = output.args[0][\"message\"]\n",
    "                    if not \"flagged\" in message:\n",
    "                        raise ValueError(message)\n",
    "                    gens[index] = message\n",
    "                    count += 1\n",
    "                else:\n",
    "                    gens[index] = output.content\n",
    "                    count += 1\n",
    "            # save to df\n",
    "            print(f\"Saving {dataset}_{model_name}_{round}.pkl\")\n",
    "            print(f\"progress: {count}/{total}\")\n",
    "            res_df = df.copy()\n",
    "            res_df['answer'] = gens\n",
    "            res_df.to_pickle(f\"./results/{dataset}_{model_name}_{round}.pkl\")\n",
    "        except Exception as e:\n",
    "            print(f\"Error occurred: {str(e)}\")\n",
    "            print(f\"skipping {dataset}_{model_name}_{round}\")\n",
    "            print(f\"progress: {count}/{total}\")\n",
    "            break\n",
    "count = 0\n",
    "total = len(df) * len(models) * ROUNDS\n",
    "for model_index, model in enumerate(models):\n",
    "    model_name = model.replace(\"/\", \"_\")\n",
    "    # Set up pipeline\n",
    "    generate_predictions(count, total, model, model_name)"
   ]
  }
 ],
 "metadata": {
  "kernelspec": {
   "display_name": "red_teaming_llm",
   "language": "python",
   "name": "python3"
  },
  "language_info": {
   "codemirror_mode": {
    "name": "ipython",
    "version": 3
   },
   "file_extension": ".py",
   "mimetype": "text/x-python",
   "name": "python",
   "nbconvert_exporter": "python",
   "pygments_lexer": "ipython3",
   "version": "3.10.8"
  }
 },
 "nbformat": 4,
 "nbformat_minor": 2
}
